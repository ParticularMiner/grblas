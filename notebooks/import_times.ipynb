{
 "cells": [
  {
   "cell_type": "code",
   "execution_count": 1,
   "id": "35a03e23-691a-460d-9547-89b04a663f47",
   "metadata": {
    "execution": {
     "iopub.execute_input": "2021-11-30T09:01:05.179099Z",
     "iopub.status.busy": "2021-11-30T09:01:05.178097Z",
     "iopub.status.idle": "2021-11-30T09:01:05.420089Z",
     "shell.execute_reply": "2021-11-30T09:01:05.419089Z",
     "shell.execute_reply.started": "2021-11-30T09:01:05.178097Z"
    },
    "tags": []
   },
   "outputs": [
    {
     "name": "stdout",
     "output_type": "stream",
     "text": [
      "Wall time: 220 ms\n"
     ]
    }
   ],
   "source": [
    "%%time\n",
    "import numpy"
   ]
  },
  {
   "cell_type": "code",
   "execution_count": 1,
   "id": "4eb3723a-a45f-4371-979b-9c7e5dc9c2bd",
   "metadata": {
    "execution": {
     "iopub.execute_input": "2021-11-30T09:01:12.505595Z",
     "iopub.status.busy": "2021-11-30T09:01:12.504596Z",
     "iopub.status.idle": "2021-11-30T09:01:13.257128Z",
     "shell.execute_reply": "2021-11-30T09:01:13.256127Z",
     "shell.execute_reply.started": "2021-11-30T09:01:12.504596Z"
    },
    "tags": []
   },
   "outputs": [
    {
     "name": "stdout",
     "output_type": "stream",
     "text": [
      "Wall time: 716 ms\n"
     ]
    }
   ],
   "source": [
    "%%time\n",
    "import pandas"
   ]
  },
  {
   "cell_type": "code",
   "execution_count": 1,
   "id": "d74042b9-4af6-4c3e-935f-3779732a370f",
   "metadata": {
    "execution": {
     "iopub.execute_input": "2021-11-30T09:01:22.358436Z",
     "iopub.status.busy": "2021-11-30T09:01:22.357424Z",
     "iopub.status.idle": "2021-11-30T09:01:22.693416Z",
     "shell.execute_reply": "2021-11-30T09:01:22.692419Z",
     "shell.execute_reply.started": "2021-11-30T09:01:22.358436Z"
    },
    "tags": []
   },
   "outputs": [
    {
     "name": "stdout",
     "output_type": "stream",
     "text": [
      "Wall time: 301 ms\n"
     ]
    }
   ],
   "source": [
    "%%time\n",
    "import grblas"
   ]
  },
  {
   "cell_type": "code",
   "execution_count": 1,
   "id": "cfc66b6f-f004-44d6-a4d0-f8efa04d9679",
   "metadata": {
    "execution": {
     "iopub.execute_input": "2021-11-30T09:01:59.764911Z",
     "iopub.status.busy": "2021-11-30T09:01:59.762910Z",
     "iopub.status.idle": "2021-11-30T09:02:00.020900Z",
     "shell.execute_reply": "2021-11-30T09:02:00.019899Z",
     "shell.execute_reply.started": "2021-11-30T09:01:59.764911Z"
    }
   },
   "outputs": [
    {
     "name": "stdout",
     "output_type": "stream",
     "text": [
      "Wall time: 218 ms\n"
     ]
    }
   ],
   "source": [
    "%%time\n",
    "from numpy import array"
   ]
  },
  {
   "cell_type": "code",
   "execution_count": 1,
   "id": "7da75413-1828-4a5b-8d5f-23ce2972f5e8",
   "metadata": {
    "execution": {
     "iopub.execute_input": "2021-11-30T09:36:53.945871Z",
     "iopub.status.busy": "2021-11-30T09:36:53.945871Z",
     "iopub.status.idle": "2021-11-30T09:37:01.204636Z",
     "shell.execute_reply": "2021-11-30T09:37:01.203633Z",
     "shell.execute_reply.started": "2021-11-30T09:36:53.945871Z"
    },
    "tags": []
   },
   "outputs": [
    {
     "name": "stdout",
     "output_type": "stream",
     "text": [
      "Wall time: 7.23 s\n"
     ]
    }
   ],
   "source": [
    "%%time\n",
    "from grblas import Vector"
   ]
  },
  {
   "cell_type": "code",
   "execution_count": 1,
   "id": "6eaac8bd-830f-4c19-84bc-b07a6992dfda",
   "metadata": {
    "execution": {
     "iopub.execute_input": "2021-11-30T09:37:33.747728Z",
     "iopub.status.busy": "2021-11-30T09:37:33.746725Z",
     "iopub.status.idle": "2021-11-30T09:37:41.163432Z",
     "shell.execute_reply": "2021-11-30T09:37:41.162435Z",
     "shell.execute_reply.started": "2021-11-30T09:37:33.747728Z"
    },
    "tags": []
   },
   "outputs": [
    {
     "name": "stdout",
     "output_type": "stream",
     "text": [
      "Wall time: 7.38 s\n"
     ]
    }
   ],
   "source": [
    "%%time\n",
    "from grblas import Matrix"
   ]
  },
  {
   "cell_type": "code",
   "execution_count": null,
   "id": "a0ace022-3741-4bcd-a217-4ec63c532039",
   "metadata": {},
   "outputs": [],
   "source": []
  }
 ],
 "metadata": {
  "kernelspec": {
   "display_name": "Python 3 (ipykernel)",
   "language": "python",
   "name": "python3"
  },
  "language_info": {
   "codemirror_mode": {
    "name": "ipython",
    "version": 3
   },
   "file_extension": ".py",
   "mimetype": "text/x-python",
   "name": "python",
   "nbconvert_exporter": "python",
   "pygments_lexer": "ipython3",
   "version": "3.9.7"
  }
 },
 "nbformat": 4,
 "nbformat_minor": 5
}
